{
 "cells": [
  {
   "cell_type": "code",
   "execution_count": 39,
   "metadata": {},
   "outputs": [],
   "source": [
    "#define the functions\n",
    "def add(num1, num2):\n",
    "    return num1 + num2\n",
    "\n",
    "def substract(num1, num2):\n",
    "    return num1 - num2\n",
    "\n",
    "def multiply(num1, num2):\n",
    "    return num1 * num2\n",
    "\n",
    "def divide(num1, num2):\n",
    "    return num1 / num2\n",
    "\n",
    "\n",
    "\n"
   ]
  },
  {
   "cell_type": "code",
   "execution_count": null,
   "metadata": {},
   "outputs": [],
   "source": [
    "#outputs\n",
    "\n",
    "n1 = int(input(\"Enter 1st number : \"))\n",
    "    \n",
    "n2 = int(input(\"Enter 2nd number : \"))\n",
    "\n",
    "\n",
    "print(\"\\n\")\n",
    "\n",
    "print(\"Add = A   Substract = S   Multiply = M   Divide = D \")\n",
    "opt = str(input(\"Enter your option: \"))\n",
    "\n",
    "print(\"\\n\")\n",
    "\n",
    "if opt == 'A':\n",
    "    print(n1 , \" + \", n2, \" = \", add(n1, n2))   \n",
    "elif opt == 'S':\n",
    "    print(n1 , \" - \", n2, \" = \", substract(n1, n2))   \n",
    "elif opt == 'M':\n",
    "    print(n1 , \" * \", n2, \" = \", multiply(n1, n2))   \n",
    "elif opt == 'D':\n",
    "    print(n1 , \" / \", n2, \" = \", divide(n1, n2))  \n",
    "else:\n",
    "    print(\"Invalid input. Please try again\")"
   ]
  }
 ],
 "metadata": {
  "kernelspec": {
   "display_name": "Python 3",
   "language": "python",
   "name": "python3"
  },
  "language_info": {
   "codemirror_mode": {
    "name": "ipython",
    "version": 3
   },
   "file_extension": ".py",
   "mimetype": "text/x-python",
   "name": "python",
   "nbconvert_exporter": "python",
   "pygments_lexer": "ipython3",
   "version": "3.8.3"
  }
 },
 "nbformat": 4,
 "nbformat_minor": 4
}
