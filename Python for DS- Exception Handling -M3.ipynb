{
 "cells": [
  {
   "cell_type": "code",
   "execution_count": 1,
   "metadata": {},
   "outputs": [
    {
     "name": "stdout",
     "output_type": "stream",
     "text": [
      "Please enter a number to divide a0\n",
      "There was an error\n"
     ]
    }
   ],
   "source": [
    "a = 1\n",
    "\n",
    "try:\n",
    "    b = int(input(\"Please enter a number to divide a\"))\n",
    "    a = a/b\n",
    "    print(\"Success a=\",a)\n",
    "except:\n",
    "    print(\"There was an error\")\n",
    "        \n"
   ]
  },
  {
   "cell_type": "code",
   "execution_count": 2,
   "metadata": {},
   "outputs": [
    {
     "name": "stdout",
     "output_type": "stream",
     "text": [
      "Please enter a number to divide a2\n",
      "Success a= 0.5\n"
     ]
    }
   ],
   "source": [
    "a = 1\n",
    "\n",
    "try:\n",
    "    b = int(input(\"Please enter a number to divide a\"))\n",
    "    a = a/b\n",
    "    print(\"Success a=\",a)\n",
    "except:\n",
    "    print(\"There was an error\")\n",
    "        \n"
   ]
  },
  {
   "cell_type": "code",
   "execution_count": 3,
   "metadata": {},
   "outputs": [
    {
     "name": "stdout",
     "output_type": "stream",
     "text": [
      "Please enter a number to divide a5\n",
      "Success a= 0.2\n"
     ]
    }
   ],
   "source": [
    "a = 1\n",
    "\n",
    "try:\n",
    "    b = int(input(\"Please enter a number to divide a\"))\n",
    "    a = a/b\n",
    "    print(\"Success a=\",a)\n",
    "except ZeroDivisionError:\n",
    "    print(\"The number you provided cant divide 1 because it is 0\")\n",
    "except ValueError:\n",
    "    print(\"You did not provide a number\")\n",
    "except:\n",
    "    print(\"Something went wrong\")\n",
    "        \n"
   ]
  },
  {
   "cell_type": "code",
   "execution_count": 4,
   "metadata": {},
   "outputs": [
    {
     "name": "stdout",
     "output_type": "stream",
     "text": [
      "Please enter a number to divide a0\n",
      "The number you provided cant divide 1 because it is 0\n"
     ]
    }
   ],
   "source": [
    "a = 1\n",
    "\n",
    "try:\n",
    "    b = int(input(\"Please enter a number to divide a\"))\n",
    "    a = a/b\n",
    "    print(\"Success a=\",a)\n",
    "except ZeroDivisionError:\n",
    "    print(\"The number you provided cant divide 1 because it is 0\")\n",
    "except ValueError:\n",
    "    print(\"You did not provide a number\")\n",
    "except:\n",
    "    print(\"Something went wrong\")\n",
    "        \n"
   ]
  },
  {
   "cell_type": "code",
   "execution_count": 5,
   "metadata": {},
   "outputs": [
    {
     "name": "stdout",
     "output_type": "stream",
     "text": [
      "Please enter a number to divide ad\n",
      "You did not provide a number\n"
     ]
    }
   ],
   "source": [
    "a = 1\n",
    "\n",
    "try:\n",
    "    b = int(input(\"Please enter a number to divide a\"))\n",
    "    a = a/b\n",
    "    print(\"Success a=\",a)\n",
    "except ZeroDivisionError:\n",
    "    print(\"The number you provided cant divide 1 because it is 0\")\n",
    "except ValueError:\n",
    "    print(\"You did not provide a number\")\n",
    "except:\n",
    "    print(\"Something went wrong\")\n",
    "        \n"
   ]
  },
  {
   "cell_type": "code",
   "execution_count": 6,
   "metadata": {},
   "outputs": [
    {
     "name": "stdout",
     "output_type": "stream",
     "text": [
      "Please enter a number to divide a7\n",
      "success a= 0.14285714285714285\n"
     ]
    }
   ],
   "source": [
    "a = 1\n",
    "\n",
    "try:\n",
    "    b = int(input(\"Please enter a number to divide a\"))\n",
    "    a = a/b\n",
    "except ZeroDivisionError:\n",
    "    print(\"The number you provided cant divide 1 because it is 0\")\n",
    "except ValueError:\n",
    "    print(\"You did not provide a number\")\n",
    "except:\n",
    "    print(\"Something went wrong\")\n",
    "else:\n",
    "    print(\"success a=\",a)"
   ]
  },
  {
   "cell_type": "code",
   "execution_count": 7,
   "metadata": {},
   "outputs": [
    {
     "name": "stdout",
     "output_type": "stream",
     "text": [
      "Please enter a number to divide a9\n",
      "success a= 0.1111111111111111\n",
      "Processing Complete\n"
     ]
    }
   ],
   "source": [
    "a = 1\n",
    "\n",
    "try:\n",
    "    b = int(input(\"Please enter a number to divide a\"))\n",
    "    a = a/b\n",
    "except ZeroDivisionError:\n",
    "    print(\"The number you provided cant divide 1 because it is 0\")\n",
    "except ValueError:\n",
    "    print(\"You did not provide a number\")\n",
    "except:\n",
    "    print(\"Something went wrong\")\n",
    "else:\n",
    "    print(\"success a=\",a)\n",
    "finally:\n",
    "    print(\"Processing Complete\")"
   ]
  },
  {
   "cell_type": "code",
   "execution_count": null,
   "metadata": {},
   "outputs": [],
   "source": []
  }
 ],
 "metadata": {
  "kernelspec": {
   "display_name": "Python 3",
   "language": "python",
   "name": "python3"
  },
  "language_info": {
   "codemirror_mode": {
    "name": "ipython",
    "version": 3
   },
   "file_extension": ".py",
   "mimetype": "text/x-python",
   "name": "python",
   "nbconvert_exporter": "python",
   "pygments_lexer": "ipython3",
   "version": "3.8.3"
  }
 },
 "nbformat": 4,
 "nbformat_minor": 4
}
